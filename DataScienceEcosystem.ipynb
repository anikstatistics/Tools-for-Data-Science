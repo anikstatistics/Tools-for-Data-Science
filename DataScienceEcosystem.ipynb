{
 "cells": [
  {
   "cell_type": "markdown",
   "id": "f1cfee69-fa47-478d-b44e-191fdf49f280",
   "metadata": {},
   "source": [
    "# Data Science Tools and Ecosystem"
   ]
  },
  {
   "cell_type": "markdown",
   "id": "b6454d18-5957-4dba-b474-a6bca43d8f45",
   "metadata": {},
   "source": [
    "In this notebook, Data Science Tools and Ecosystem are summarized."
   ]
  },
  {
   "cell_type": "markdown",
   "id": "23d2b93f-9c65-4c54-af11-493392bc3b46",
   "metadata": {},
   "source": [
    "**Objectives:**\n",
    "\n",
    "- List popular languages for Data Science\n",
    "- Understand the use of libraries in Data Science\n",
    "- Learn to create and manipulate tables in markdown\n",
    "- Understand how to evaluate arithmetic expressions in Python\n",
    "- Learn to convert units (like minutes to hours) in Python"
   ]
  },
  {
   "cell_type": "markdown",
   "id": "0909ce6d-a283-488d-a7ad-a49400e8e743",
   "metadata": {},
   "source": [
    "Some of the popular languages that Data Scientists use are:\r\n",
    "\r\n",
    "1. Python\r\n",
    "2. R\r\n",
    "3. SQL\r\n",
    "4. Java\r\n",
    "5.Julia\r\n"
   ]
  },
  {
   "cell_type": "markdown",
   "id": "f552f4e9-7b05-450f-a5e9-f750c3d7d363",
   "metadata": {},
   "source": [
    "Some of the commonly used libraries used by Data Scientists include:\n",
    "\n",
    "1. Pandas\n",
    "2. NumPy\n",
    "3. Matplotlib\n",
    "4. Scikit-learn\n",
    "5. TensorFlow"
   ]
  },
  {
   "cell_type": "markdown",
   "id": "d97dac21-7329-49b8-b80c-754dad58a216",
   "metadata": {},
   "source": [
    "| Data Science Tools |\r\n",
    "| --- |\r\n",
    "| Jupyter Notebook |\r\n",
    "| RStudio |\r\n",
    "| Apache Zeppeln |\r\n"
   ]
  },
  {
   "cell_type": "markdown",
   "id": "27583a5e-b9d0-4c73-9c44-948244017886",
   "metadata": {},
   "source": [
    "### Below are a few examples of evaluating arithmetic expressions in Python"
   ]
  },
  {
   "cell_type": "code",
   "execution_count": 3,
   "id": "5f5034d9-d262-4ac2-9e4f-c48e05e95992",
   "metadata": {},
   "outputs": [
    {
     "data": {
      "text/plain": [
       "17"
      ]
     },
     "execution_count": 3,
     "metadata": {},
     "output_type": "execute_result"
    }
   ],
   "source": [
    "# This a simple arithmetic expression to mutiply then add integers\n",
    "\n",
    "(3*4)+5"
   ]
  },
  {
   "cell_type": "code",
   "execution_count": 5,
   "id": "1ded3bcc-dab2-4ce7-99af-685f0ac7edd1",
   "metadata": {},
   "outputs": [
    {
     "name": "stdout",
     "output_type": "stream",
     "text": [
      "3.3333333333333335\n"
     ]
    }
   ],
   "source": [
    "# This will convert 200 minutes to hours by diving by 60\n",
    "\n",
    "hours = 200/60\n",
    "print(hours)"
   ]
  },
  {
   "cell_type": "markdown",
   "id": "0ef31876-55cf-48be-a3bf-1980ac21eebf",
   "metadata": {},
   "source": [
    "## Author\n",
    "\n",
    "Anik Mahmud"
   ]
  },
  {
   "cell_type": "code",
   "execution_count": null,
   "id": "87be9949-7d5b-4b0c-bb80-60182881af05",
   "metadata": {},
   "outputs": [],
   "source": []
  }
 ],
 "metadata": {
  "kernelspec": {
   "display_name": "Python 3 (ipykernel)",
   "language": "python",
   "name": "python3"
  },
  "language_info": {
   "codemirror_mode": {
    "name": "ipython",
    "version": 3
   },
   "file_extension": ".py",
   "mimetype": "text/x-python",
   "name": "python",
   "nbconvert_exporter": "python",
   "pygments_lexer": "ipython3",
   "version": "3.11.7"
  }
 },
 "nbformat": 4,
 "nbformat_minor": 5
}
